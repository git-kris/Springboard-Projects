{
 "cells": [
  {
   "cell_type": "markdown",
   "metadata": {},
   "source": [
    "# Data Collection"
   ]
  },
  {
   "cell_type": "code",
   "execution_count": 1,
   "metadata": {},
   "outputs": [],
   "source": [
    "import pandas as pd\n",
    "import os\n",
    "import matplotlib.pyplot as plt\n",
    "import seaborn as sns\n",
    "import numpy as np\n",
    "import re\n",
    "from datetime import date\n",
    "from scipy.stats import norm\n",
    "from sklearn.preprocessing import StandardScaler\n",
    "from scipy import stats\n",
    "import warnings\n",
    "from pandas_profiling import ProfileReport\n",
    "warnings.filterwarnings('ignore')\n",
    "%matplotlib inline"
   ]
  },
  {
   "cell_type": "code",
   "execution_count": 2,
   "metadata": {},
   "outputs": [],
   "source": [
    "df_train = pd.read_csv('phone_dataset.csv')"
   ]
  },
  {
   "cell_type": "markdown",
   "metadata": {},
   "source": [
    "# Data Definitions "
   ]
  },
  {
   "cell_type": "code",
   "execution_count": 3,
   "metadata": {},
   "outputs": [
    {
     "data": {
      "text/html": [
       "<div>\n",
       "<style scoped>\n",
       "    .dataframe tbody tr th:only-of-type {\n",
       "        vertical-align: middle;\n",
       "    }\n",
       "\n",
       "    .dataframe tbody tr th {\n",
       "        vertical-align: top;\n",
       "    }\n",
       "\n",
       "    .dataframe thead th {\n",
       "        text-align: right;\n",
       "    }\n",
       "</style>\n",
       "<table border=\"1\" class=\"dataframe\">\n",
       "  <thead>\n",
       "    <tr style=\"text-align: right;\">\n",
       "      <th></th>\n",
       "      <th>brand</th>\n",
       "      <th>model</th>\n",
       "      <th>network_technology</th>\n",
       "      <th>2G_bands</th>\n",
       "      <th>3G_bands</th>\n",
       "      <th>4G_bands</th>\n",
       "      <th>network_speed</th>\n",
       "      <th>GPRS</th>\n",
       "      <th>EDGE</th>\n",
       "      <th>announced</th>\n",
       "      <th>...</th>\n",
       "      <th>bluetooth</th>\n",
       "      <th>GPS</th>\n",
       "      <th>NFC</th>\n",
       "      <th>radio</th>\n",
       "      <th>USB</th>\n",
       "      <th>sensors</th>\n",
       "      <th>battery</th>\n",
       "      <th>colors</th>\n",
       "      <th>approx_price_EUR</th>\n",
       "      <th>img_url</th>\n",
       "    </tr>\n",
       "  </thead>\n",
       "  <tbody>\n",
       "    <tr>\n",
       "      <th>0</th>\n",
       "      <td>Acer</td>\n",
       "      <td>Iconia Talk S</td>\n",
       "      <td>GSM / HSPA / LTE</td>\n",
       "      <td>GSM 850 / 900 / 1800 / 1900 - SIM 1 &amp; SIM 2</td>\n",
       "      <td>HSDPA 850 / 1900 / 2100</td>\n",
       "      <td>LTE band 1(2100)| 3(1800)| 7(2600)| 8(900)| 20...</td>\n",
       "      <td>HSPA 42.2/11.5 Mbps  LTE Cat4 150/50 Mbps</td>\n",
       "      <td>Yes</td>\n",
       "      <td>Yes</td>\n",
       "      <td>2016  August</td>\n",
       "      <td>...</td>\n",
       "      <td>4.0| A2DP</td>\n",
       "      <td>Yes with A-GPS GLONASS</td>\n",
       "      <td>NaN</td>\n",
       "      <td>FM radio</td>\n",
       "      <td>microUSB 2.0</td>\n",
       "      <td>Accelerometer| proximity</td>\n",
       "      <td>Non-removable Li-Ion 3400 mAh battery (12.92 Wh)</td>\n",
       "      <td>Black</td>\n",
       "      <td>170</td>\n",
       "      <td>http://cdn2.gsmarena.com/vv/bigpic/acer-iconia...</td>\n",
       "    </tr>\n",
       "    <tr>\n",
       "      <th>1</th>\n",
       "      <td>Acer</td>\n",
       "      <td>Liquid Z6 Plus</td>\n",
       "      <td>GSM / HSPA / LTE</td>\n",
       "      <td>GSM 850 / 900 / 1800 / 1900 - SIM 1 &amp; SIM 2 (d...</td>\n",
       "      <td>HSDPA</td>\n",
       "      <td>LTE</td>\n",
       "      <td>HSPA 42.2/5.76 Mbps  LTE Cat4 150/50 Mbps</td>\n",
       "      <td>Yes</td>\n",
       "      <td>Yes</td>\n",
       "      <td>2016  August</td>\n",
       "      <td>...</td>\n",
       "      <td>4.0| A2DP</td>\n",
       "      <td>Yes with A-GPS</td>\n",
       "      <td>NaN</td>\n",
       "      <td>FM radio</td>\n",
       "      <td>microUSB 2.0</td>\n",
       "      <td>Fingerprint (front-mounted)| accelerometer| pr...</td>\n",
       "      <td>Removable Li-Po 4080 mAh battery</td>\n",
       "      <td>Black| White</td>\n",
       "      <td>250</td>\n",
       "      <td>http://cdn2.gsmarena.com/vv/bigpic/acer-liquid...</td>\n",
       "    </tr>\n",
       "    <tr>\n",
       "      <th>2</th>\n",
       "      <td>Acer</td>\n",
       "      <td>Liquid Z6</td>\n",
       "      <td>GSM / HSPA / LTE</td>\n",
       "      <td>GSM 850 / 900 / 1800 / 1900 - SIM 1 &amp; SIM 2 (d...</td>\n",
       "      <td>HSDPA</td>\n",
       "      <td>LTE</td>\n",
       "      <td>HSPA  LTE</td>\n",
       "      <td>Yes</td>\n",
       "      <td>Yes</td>\n",
       "      <td>2016  August</td>\n",
       "      <td>...</td>\n",
       "      <td>Yes</td>\n",
       "      <td>Yes with A-GPS</td>\n",
       "      <td>NaN</td>\n",
       "      <td>FM radio</td>\n",
       "      <td>microUSB 2.0</td>\n",
       "      <td>Accelerometer| proximity</td>\n",
       "      <td>Removable Li-Ion 2000 mAh battery</td>\n",
       "      <td>Black| White</td>\n",
       "      <td>120</td>\n",
       "      <td>http://cdn2.gsmarena.com/vv/bigpic/acer-liquid...</td>\n",
       "    </tr>\n",
       "    <tr>\n",
       "      <th>3</th>\n",
       "      <td>Acer</td>\n",
       "      <td>Iconia Tab 10 A3-A40</td>\n",
       "      <td>No cellular connectivity</td>\n",
       "      <td>N/A</td>\n",
       "      <td>NaN</td>\n",
       "      <td>NaN</td>\n",
       "      <td>NaN</td>\n",
       "      <td>No</td>\n",
       "      <td>No</td>\n",
       "      <td>2016  April</td>\n",
       "      <td>...</td>\n",
       "      <td>Yes</td>\n",
       "      <td>NaN</td>\n",
       "      <td>NaN</td>\n",
       "      <td>No</td>\n",
       "      <td>microUSB 2.0</td>\n",
       "      <td>Accelerometer</td>\n",
       "      <td>Non-removable Li-Ion battery</td>\n",
       "      <td>Black</td>\n",
       "      <td>230</td>\n",
       "      <td>http://cdn2.gsmarena.com/vv/bigpic/acer-iconia...</td>\n",
       "    </tr>\n",
       "    <tr>\n",
       "      <th>4</th>\n",
       "      <td>Acer</td>\n",
       "      <td>Liquid X2</td>\n",
       "      <td>GSM / HSPA / LTE</td>\n",
       "      <td>GSM 850 / 900 / 1800 / 1900</td>\n",
       "      <td>HSDPA 900 / 1900 / 2100 - Europe| Taiwan</td>\n",
       "      <td>LTE 800 / 1800 / 2100 / 2600 - Europe</td>\n",
       "      <td>HSPA 42.2/5.76 Mbps  LTE Cat4 150/50 Mbps</td>\n",
       "      <td>Yes</td>\n",
       "      <td>Yes</td>\n",
       "      <td>2015  April</td>\n",
       "      <td>...</td>\n",
       "      <td>4.0| A2DP| LE</td>\n",
       "      <td>Yes with A-GPS</td>\n",
       "      <td>NaN</td>\n",
       "      <td>FM radio</td>\n",
       "      <td>microUSB 2.0</td>\n",
       "      <td>Accelerometer| proximity| compass</td>\n",
       "      <td>Removable Li-Po 4020 mAh battery</td>\n",
       "      <td>Black| Gold</td>\n",
       "      <td>230</td>\n",
       "      <td>http://cdn2.gsmarena.com/vv/bigpic/acer-liquid...</td>\n",
       "    </tr>\n",
       "    <tr>\n",
       "      <th>...</th>\n",
       "      <td>...</td>\n",
       "      <td>...</td>\n",
       "      <td>...</td>\n",
       "      <td>...</td>\n",
       "      <td>...</td>\n",
       "      <td>...</td>\n",
       "      <td>...</td>\n",
       "      <td>...</td>\n",
       "      <td>...</td>\n",
       "      <td>...</td>\n",
       "      <td>...</td>\n",
       "      <td>...</td>\n",
       "      <td>...</td>\n",
       "      <td>...</td>\n",
       "      <td>...</td>\n",
       "      <td>...</td>\n",
       "      <td>...</td>\n",
       "      <td>...</td>\n",
       "      <td>...</td>\n",
       "      <td>...</td>\n",
       "      <td>...</td>\n",
       "    </tr>\n",
       "    <tr>\n",
       "      <th>8626</th>\n",
       "      <td>ZTE</td>\n",
       "      <td>F600</td>\n",
       "      <td>GSM / UMTS</td>\n",
       "      <td>GSM 850 / 900 / 1800 / 1900</td>\n",
       "      <td>UMTS 850 / 1900 / 2100</td>\n",
       "      <td>NaN</td>\n",
       "      <td>Yes  384 kbps</td>\n",
       "      <td>Class 10</td>\n",
       "      <td>Class 10</td>\n",
       "      <td>2009. Released 2009</td>\n",
       "      <td>...</td>\n",
       "      <td>2.1| A2DP</td>\n",
       "      <td>No</td>\n",
       "      <td>NaN</td>\n",
       "      <td>FM radio</td>\n",
       "      <td>2.0</td>\n",
       "      <td>NaN</td>\n",
       "      <td>Removable Li-Ion 800 mAh battery</td>\n",
       "      <td>Black</td>\n",
       "      <td>NaN</td>\n",
       "      <td>http://cdn2.gsmarena.com/vv/bigpic/zte-f600.jpg</td>\n",
       "    </tr>\n",
       "    <tr>\n",
       "      <th>8627</th>\n",
       "      <td>ZTE</td>\n",
       "      <td>F103</td>\n",
       "      <td>GSM / UMTS</td>\n",
       "      <td>GSM 850 / 900 / 1800 / 1900</td>\n",
       "      <td>UMTS 850 / 1900 / 2100</td>\n",
       "      <td>NaN</td>\n",
       "      <td>Yes  384 kbps</td>\n",
       "      <td>Class 10</td>\n",
       "      <td>Class 10</td>\n",
       "      <td>2009. Released 2009</td>\n",
       "      <td>...</td>\n",
       "      <td>2.1| A2DP</td>\n",
       "      <td>No</td>\n",
       "      <td>NaN</td>\n",
       "      <td>FM radio</td>\n",
       "      <td>2.0</td>\n",
       "      <td>NaN</td>\n",
       "      <td>Removable Li-Ion 1000 mAh battery</td>\n",
       "      <td>Black| Silver</td>\n",
       "      <td>NaN</td>\n",
       "      <td>http://cdn2.gsmarena.com/vv/bigpic/zte-f103.jpg</td>\n",
       "    </tr>\n",
       "    <tr>\n",
       "      <th>8628</th>\n",
       "      <td>ZTE</td>\n",
       "      <td>F101</td>\n",
       "      <td>GSM / UMTS</td>\n",
       "      <td>GSM 850 / 900 / 1800 / 1900</td>\n",
       "      <td>UMTS 850 / 1900 / 2100</td>\n",
       "      <td>NaN</td>\n",
       "      <td>Yes  384 kbps</td>\n",
       "      <td>Class 10</td>\n",
       "      <td>Class 10</td>\n",
       "      <td>2009. Released 2009</td>\n",
       "      <td>...</td>\n",
       "      <td>2.1| A2DP</td>\n",
       "      <td>No</td>\n",
       "      <td>NaN</td>\n",
       "      <td>FM radio</td>\n",
       "      <td>2.0</td>\n",
       "      <td>NaN</td>\n",
       "      <td>Removable Li-Ion 1000 mAh battery</td>\n",
       "      <td>White| Red| Green</td>\n",
       "      <td>NaN</td>\n",
       "      <td>http://cdn2.gsmarena.com/vv/bigpic/zte-f101.jpg</td>\n",
       "    </tr>\n",
       "    <tr>\n",
       "      <th>8629</th>\n",
       "      <td>ZTE</td>\n",
       "      <td>F100</td>\n",
       "      <td>GSM / UMTS</td>\n",
       "      <td>GSM 850 / 900 / 1800 / 1900</td>\n",
       "      <td>UMTS 850 / 1900 / 2100</td>\n",
       "      <td>NaN</td>\n",
       "      <td>Yes  384 kbps</td>\n",
       "      <td>Class 10</td>\n",
       "      <td>Class 10</td>\n",
       "      <td>2009. Released 2009</td>\n",
       "      <td>...</td>\n",
       "      <td>2.1| A2DP</td>\n",
       "      <td>No</td>\n",
       "      <td>NaN</td>\n",
       "      <td>FM radio</td>\n",
       "      <td>2.0</td>\n",
       "      <td>NaN</td>\n",
       "      <td>Removable Li-Ion 1000 mAh battery</td>\n",
       "      <td>White| Red| Green</td>\n",
       "      <td>NaN</td>\n",
       "      <td>http://cdn2.gsmarena.com/vv/bigpic/zte-f100.jpg</td>\n",
       "    </tr>\n",
       "    <tr>\n",
       "      <th>8630</th>\n",
       "      <td>ZTE</td>\n",
       "      <td>Coral200 Sollar</td>\n",
       "      <td>GSM</td>\n",
       "      <td>GSM 900 / 1800</td>\n",
       "      <td>NaN</td>\n",
       "      <td>NaN</td>\n",
       "      <td>NaN</td>\n",
       "      <td>No</td>\n",
       "      <td>No</td>\n",
       "      <td>2007  May. Released 2007</td>\n",
       "      <td>...</td>\n",
       "      <td>No</td>\n",
       "      <td>No</td>\n",
       "      <td>NaN</td>\n",
       "      <td>No</td>\n",
       "      <td>No</td>\n",
       "      <td>NaN</td>\n",
       "      <td>Removable Li-Ion 690 mAh battery</td>\n",
       "      <td>Black</td>\n",
       "      <td>NaN</td>\n",
       "      <td>http://cdn2.gsmarena.com/vv/bigpic/zte-coral20...</td>\n",
       "    </tr>\n",
       "  </tbody>\n",
       "</table>\n",
       "<p>8631 rows × 40 columns</p>\n",
       "</div>"
      ],
      "text/plain": [
       "     brand                 model        network_technology  \\\n",
       "0     Acer         Iconia Talk S          GSM / HSPA / LTE   \n",
       "1     Acer        Liquid Z6 Plus          GSM / HSPA / LTE   \n",
       "2     Acer             Liquid Z6          GSM / HSPA / LTE   \n",
       "3     Acer  Iconia Tab 10 A3-A40  No cellular connectivity   \n",
       "4     Acer             Liquid X2          GSM / HSPA / LTE   \n",
       "...    ...                   ...                       ...   \n",
       "8626   ZTE                  F600                GSM / UMTS   \n",
       "8627   ZTE                  F103                GSM / UMTS   \n",
       "8628   ZTE                  F101                GSM / UMTS   \n",
       "8629   ZTE                  F100                GSM / UMTS   \n",
       "8630   ZTE       Coral200 Sollar                       GSM   \n",
       "\n",
       "                                               2G_bands  \\\n",
       "0           GSM 850 / 900 / 1800 / 1900 - SIM 1 & SIM 2   \n",
       "1     GSM 850 / 900 / 1800 / 1900 - SIM 1 & SIM 2 (d...   \n",
       "2     GSM 850 / 900 / 1800 / 1900 - SIM 1 & SIM 2 (d...   \n",
       "3                                                   N/A   \n",
       "4                           GSM 850 / 900 / 1800 / 1900   \n",
       "...                                                 ...   \n",
       "8626                        GSM 850 / 900 / 1800 / 1900   \n",
       "8627                        GSM 850 / 900 / 1800 / 1900   \n",
       "8628                        GSM 850 / 900 / 1800 / 1900   \n",
       "8629                        GSM 850 / 900 / 1800 / 1900   \n",
       "8630                                     GSM 900 / 1800   \n",
       "\n",
       "                                      3G_bands  \\\n",
       "0                      HSDPA 850 / 1900 / 2100   \n",
       "1                                        HSDPA   \n",
       "2                                        HSDPA   \n",
       "3                                          NaN   \n",
       "4     HSDPA 900 / 1900 / 2100 - Europe| Taiwan   \n",
       "...                                        ...   \n",
       "8626                    UMTS 850 / 1900 / 2100   \n",
       "8627                    UMTS 850 / 1900 / 2100   \n",
       "8628                    UMTS 850 / 1900 / 2100   \n",
       "8629                    UMTS 850 / 1900 / 2100   \n",
       "8630                                       NaN   \n",
       "\n",
       "                                               4G_bands  \\\n",
       "0     LTE band 1(2100)| 3(1800)| 7(2600)| 8(900)| 20...   \n",
       "1                                                   LTE   \n",
       "2                                                   LTE   \n",
       "3                                                   NaN   \n",
       "4                 LTE 800 / 1800 / 2100 / 2600 - Europe   \n",
       "...                                                 ...   \n",
       "8626                                                NaN   \n",
       "8627                                                NaN   \n",
       "8628                                                NaN   \n",
       "8629                                                NaN   \n",
       "8630                                                NaN   \n",
       "\n",
       "                                  network_speed      GPRS      EDGE  \\\n",
       "0     HSPA 42.2/11.5 Mbps  LTE Cat4 150/50 Mbps       Yes       Yes   \n",
       "1     HSPA 42.2/5.76 Mbps  LTE Cat4 150/50 Mbps       Yes       Yes   \n",
       "2                                     HSPA  LTE       Yes       Yes   \n",
       "3                                           NaN        No        No   \n",
       "4     HSPA 42.2/5.76 Mbps  LTE Cat4 150/50 Mbps       Yes       Yes   \n",
       "...                                         ...       ...       ...   \n",
       "8626                              Yes  384 kbps  Class 10  Class 10   \n",
       "8627                              Yes  384 kbps  Class 10  Class 10   \n",
       "8628                              Yes  384 kbps  Class 10  Class 10   \n",
       "8629                              Yes  384 kbps  Class 10  Class 10   \n",
       "8630                                        NaN        No        No   \n",
       "\n",
       "                     announced  ...      bluetooth                     GPS  \\\n",
       "0                 2016  August  ...      4.0| A2DP  Yes with A-GPS GLONASS   \n",
       "1                 2016  August  ...      4.0| A2DP          Yes with A-GPS   \n",
       "2                 2016  August  ...            Yes          Yes with A-GPS   \n",
       "3                  2016  April  ...            Yes                     NaN   \n",
       "4                  2015  April  ...  4.0| A2DP| LE          Yes with A-GPS   \n",
       "...                        ...  ...            ...                     ...   \n",
       "8626       2009. Released 2009  ...      2.1| A2DP                      No   \n",
       "8627       2009. Released 2009  ...      2.1| A2DP                      No   \n",
       "8628       2009. Released 2009  ...      2.1| A2DP                      No   \n",
       "8629       2009. Released 2009  ...      2.1| A2DP                      No   \n",
       "8630  2007  May. Released 2007  ...             No                      No   \n",
       "\n",
       "      NFC     radio           USB  \\\n",
       "0     NaN  FM radio  microUSB 2.0   \n",
       "1     NaN  FM radio  microUSB 2.0   \n",
       "2     NaN  FM radio  microUSB 2.0   \n",
       "3     NaN        No  microUSB 2.0   \n",
       "4     NaN  FM radio  microUSB 2.0   \n",
       "...   ...       ...           ...   \n",
       "8626  NaN  FM radio           2.0   \n",
       "8627  NaN  FM radio           2.0   \n",
       "8628  NaN  FM radio           2.0   \n",
       "8629  NaN  FM radio           2.0   \n",
       "8630  NaN        No            No   \n",
       "\n",
       "                                                sensors  \\\n",
       "0                              Accelerometer| proximity   \n",
       "1     Fingerprint (front-mounted)| accelerometer| pr...   \n",
       "2                              Accelerometer| proximity   \n",
       "3                                         Accelerometer   \n",
       "4                     Accelerometer| proximity| compass   \n",
       "...                                                 ...   \n",
       "8626                                                NaN   \n",
       "8627                                                NaN   \n",
       "8628                                                NaN   \n",
       "8629                                                NaN   \n",
       "8630                                                NaN   \n",
       "\n",
       "                                               battery             colors  \\\n",
       "0     Non-removable Li-Ion 3400 mAh battery (12.92 Wh)              Black   \n",
       "1                     Removable Li-Po 4080 mAh battery       Black| White   \n",
       "2                    Removable Li-Ion 2000 mAh battery       Black| White   \n",
       "3                         Non-removable Li-Ion battery              Black   \n",
       "4                     Removable Li-Po 4020 mAh battery        Black| Gold   \n",
       "...                                                ...                ...   \n",
       "8626                  Removable Li-Ion 800 mAh battery              Black   \n",
       "8627                 Removable Li-Ion 1000 mAh battery      Black| Silver   \n",
       "8628                 Removable Li-Ion 1000 mAh battery  White| Red| Green   \n",
       "8629                 Removable Li-Ion 1000 mAh battery  White| Red| Green   \n",
       "8630                  Removable Li-Ion 690 mAh battery              Black   \n",
       "\n",
       "     approx_price_EUR                                            img_url  \n",
       "0                 170  http://cdn2.gsmarena.com/vv/bigpic/acer-iconia...  \n",
       "1                 250  http://cdn2.gsmarena.com/vv/bigpic/acer-liquid...  \n",
       "2                 120  http://cdn2.gsmarena.com/vv/bigpic/acer-liquid...  \n",
       "3                 230  http://cdn2.gsmarena.com/vv/bigpic/acer-iconia...  \n",
       "4                 230  http://cdn2.gsmarena.com/vv/bigpic/acer-liquid...  \n",
       "...               ...                                                ...  \n",
       "8626              NaN    http://cdn2.gsmarena.com/vv/bigpic/zte-f600.jpg  \n",
       "8627              NaN    http://cdn2.gsmarena.com/vv/bigpic/zte-f103.jpg  \n",
       "8628              NaN    http://cdn2.gsmarena.com/vv/bigpic/zte-f101.jpg  \n",
       "8629              NaN    http://cdn2.gsmarena.com/vv/bigpic/zte-f100.jpg  \n",
       "8630              NaN  http://cdn2.gsmarena.com/vv/bigpic/zte-coral20...  \n",
       "\n",
       "[8631 rows x 40 columns]"
      ]
     },
     "execution_count": 3,
     "metadata": {},
     "output_type": "execute_result"
    }
   ],
   "source": [
    "df_train"
   ]
  },
  {
   "cell_type": "code",
   "execution_count": 4,
   "metadata": {},
   "outputs": [
    {
     "name": "stdout",
     "output_type": "stream",
     "text": [
      "<class 'pandas.core.frame.DataFrame'>\n",
      "RangeIndex: 8631 entries, 0 to 8630\n",
      "Data columns (total 40 columns):\n",
      " #   Column              Non-Null Count  Dtype \n",
      "---  ------              --------------  ----- \n",
      " 0   brand               8631 non-null   object\n",
      " 1   model               8631 non-null   object\n",
      " 2   network_technology  8631 non-null   object\n",
      " 3   2G_bands            8631 non-null   object\n",
      " 4   3G_bands            4858 non-null   object\n",
      " 5   4G_bands            1605 non-null   object\n",
      " 6   network_speed       4885 non-null   object\n",
      " 7   GPRS                8599 non-null   object\n",
      " 8   EDGE                8608 non-null   object\n",
      " 9   announced           8616 non-null   object\n",
      " 10  status              8631 non-null   object\n",
      " 11  dimentions          8612 non-null   object\n",
      " 12  weight_g            7682 non-null   object\n",
      " 13  weight_oz           7682 non-null   object\n",
      " 14  SIM                 8629 non-null   object\n",
      " 15  display_type        8627 non-null   object\n",
      " 16  display_resolution  7417 non-null   object\n",
      " 17  display_size        8584 non-null   object\n",
      " 18  OS                  4908 non-null   object\n",
      " 19  CPU                 4836 non-null   object\n",
      " 20  Chipset             3692 non-null   object\n",
      " 21  GPU                 3493 non-null   object\n",
      " 22  memory_card         8629 non-null   object\n",
      " 23  internal_memory     6809 non-null   object\n",
      " 24  RAM                 4658 non-null   object\n",
      " 25  primary_camera      7438 non-null   object\n",
      " 26  secondary_camera    7407 non-null   object\n",
      " 27  loud_speaker        8630 non-null   object\n",
      " 28  audio_jack          8563 non-null   object\n",
      " 29  WLAN                8627 non-null   object\n",
      " 30  bluetooth           8612 non-null   object\n",
      " 31  GPS                 8602 non-null   object\n",
      " 32  NFC                 795 non-null    object\n",
      " 33  radio               8535 non-null   object\n",
      " 34  USB                 7728 non-null   object\n",
      " 35  sensors             4591 non-null   object\n",
      " 36  battery             8628 non-null   object\n",
      " 37  colors              8029 non-null   object\n",
      " 38  approx_price_EUR    5006 non-null   object\n",
      " 39  img_url             8630 non-null   object\n",
      "dtypes: object(40)\n",
      "memory usage: 2.6+ MB\n"
     ]
    }
   ],
   "source": [
    "df_train.info()"
   ]
  },
  {
   "cell_type": "code",
   "execution_count": 5,
   "metadata": {},
   "outputs": [
    {
     "data": {
      "text/plain": [
       "Index(['brand', 'model', 'network_technology', '2G_bands', '3G_bands',\n",
       "       '4G_bands', 'network_speed', 'GPRS', 'EDGE', 'announced', 'status',\n",
       "       'dimentions', 'weight_g', 'weight_oz', 'SIM', 'display_type',\n",
       "       'display_resolution', 'display_size', 'OS', 'CPU', 'Chipset', 'GPU',\n",
       "       'memory_card', 'internal_memory', 'RAM', 'primary_camera',\n",
       "       'secondary_camera', 'loud_speaker', 'audio_jack', 'WLAN', 'bluetooth',\n",
       "       'GPS', 'NFC', 'radio', 'USB', 'sensors', 'battery', 'colors',\n",
       "       'approx_price_EUR', 'img_url'],\n",
       "      dtype='object')"
      ]
     },
     "execution_count": 5,
     "metadata": {},
     "output_type": "execute_result"
    }
   ],
   "source": [
    "df_train.columns"
   ]
  },
  {
   "cell_type": "code",
   "execution_count": 6,
   "metadata": {},
   "outputs": [
    {
     "data": {
      "text/plain": [
       "brand                 0.012513\n",
       "model                 0.958753\n",
       "network_technology    0.004403\n",
       "2G_bands              0.024099\n",
       "3G_bands              0.067084\n",
       "4G_bands              0.072645\n",
       "network_speed         0.022477\n",
       "GPRS                  0.006141\n",
       "EDGE                  0.005793\n",
       "announced             0.082377\n",
       "status                0.014830\n",
       "dimentions            0.765728\n",
       "weight_g              0.103696\n",
       "weight_oz             0.044838\n",
       "SIM                   0.009964\n",
       "display_type          0.027227\n",
       "display_resolution    0.345267\n",
       "display_size          0.099988\n",
       "OS                    0.064071\n",
       "CPU                   0.064303\n",
       "Chipset               0.062218\n",
       "GPU                   0.015989\n",
       "memory_card           0.023520\n",
       "internal_memory       0.044491\n",
       "RAM                   0.024099\n",
       "primary_camera        0.077975\n",
       "secondary_camera      0.042637\n",
       "loud_speaker          0.002201\n",
       "audio_jack            0.000695\n",
       "WLAN                  0.019928\n",
       "bluetooth             0.012745\n",
       "GPS                   0.011007\n",
       "NFC                   0.005793\n",
       "radio                 0.011239\n",
       "USB                   0.011702\n",
       "sensors               0.013208\n",
       "battery               0.121539\n",
       "colors                0.302862\n",
       "approx_price_EUR      0.012861\n",
       "img_url               0.967211\n",
       "dtype: float64"
      ]
     },
     "execution_count": 6,
     "metadata": {},
     "output_type": "execute_result"
    }
   ],
   "source": [
    "df_train.nunique()/len(df_train)"
   ]
  },
  {
   "cell_type": "code",
   "execution_count": 7,
   "metadata": {
    "scrolled": true
   },
   "outputs": [
    {
     "data": {
      "text/plain": [
       "brand                 object\n",
       "model                 object\n",
       "network_technology    object\n",
       "2G_bands              object\n",
       "3G_bands              object\n",
       "4G_bands              object\n",
       "network_speed         object\n",
       "GPRS                  object\n",
       "EDGE                  object\n",
       "announced             object\n",
       "status                object\n",
       "dimentions            object\n",
       "weight_g              object\n",
       "weight_oz             object\n",
       "SIM                   object\n",
       "display_type          object\n",
       "display_resolution    object\n",
       "display_size          object\n",
       "OS                    object\n",
       "CPU                   object\n",
       "Chipset               object\n",
       "GPU                   object\n",
       "memory_card           object\n",
       "internal_memory       object\n",
       "RAM                   object\n",
       "primary_camera        object\n",
       "secondary_camera      object\n",
       "loud_speaker          object\n",
       "audio_jack            object\n",
       "WLAN                  object\n",
       "bluetooth             object\n",
       "GPS                   object\n",
       "NFC                   object\n",
       "radio                 object\n",
       "USB                   object\n",
       "sensors               object\n",
       "battery               object\n",
       "colors                object\n",
       "approx_price_EUR      object\n",
       "img_url               object\n",
       "dtype: object"
      ]
     },
     "execution_count": 7,
     "metadata": {},
     "output_type": "execute_result"
    }
   ],
   "source": [
    "df_train.dtypes"
   ]
  },
  {
   "cell_type": "code",
   "execution_count": 8,
   "metadata": {
    "scrolled": true
   },
   "outputs": [
    {
     "data": {
      "application/vnd.jupyter.widget-view+json": {
       "model_id": "1bfb0264b593485ab26d98a3bcbde768",
       "version_major": 2,
       "version_minor": 0
      },
      "text/plain": [
       "HBox(children=(FloatProgress(value=0.0, description='Summarize dataset', max=54.0, style=ProgressStyle(descrip…"
      ]
     },
     "metadata": {},
     "output_type": "display_data"
    },
    {
     "name": "stdout",
     "output_type": "stream",
     "text": [
      "\n"
     ]
    },
    {
     "data": {
      "application/vnd.jupyter.widget-view+json": {
       "model_id": "554c2cc079624ed9b1b7e43074858fd9",
       "version_major": 2,
       "version_minor": 0
      },
      "text/plain": [
       "HBox(children=(FloatProgress(value=0.0, description='Generate report structure', max=1.0, style=ProgressStyle(…"
      ]
     },
     "metadata": {},
     "output_type": "display_data"
    },
    {
     "name": "stdout",
     "output_type": "stream",
     "text": [
      "\n"
     ]
    },
    {
     "data": {
      "application/vnd.jupyter.widget-view+json": {
       "model_id": "",
       "version_major": 2,
       "version_minor": 0
      },
      "text/plain": [
       "HBox(children=(FloatProgress(value=0.0, description='Render widgets', max=1.0, style=ProgressStyle(description…"
      ]
     },
     "metadata": {},
     "output_type": "display_data"
    },
    {
     "data": {
      "application/vnd.jupyter.widget-view+json": {
       "model_id": "257bf4c75eee455a83fcd161656b4d76",
       "version_major": 2,
       "version_minor": 0
      },
      "text/plain": [
       "VBox(children=(Tab(children=(Tab(children=(GridBox(children=(VBox(children=(GridspecLayout(children=(HTML(valu…"
      ]
     },
     "metadata": {},
     "output_type": "display_data"
    }
   ],
   "source": [
    "profile = ProfileReport(df_train, title=\"Pandas Profiling Report\")\n",
    "profile.to_widgets()"
   ]
  },
  {
   "cell_type": "code",
   "execution_count": 11,
   "metadata": {},
   "outputs": [
    {
     "data": {
      "text/plain": [
       "count     5004.000000\n",
       "mean       202.242006\n",
       "std        600.123621\n",
       "min         10.000000\n",
       "25%         80.000000\n",
       "50%        130.000000\n",
       "75%        220.000000\n",
       "max      27000.000000\n",
       "Name: approx_price_EUR, dtype: float64"
      ]
     },
     "execution_count": 11,
     "metadata": {},
     "output_type": "execute_result"
    }
   ],
   "source": [
    "df_train['approx_price_EUR'] = df_train['approx_price_EUR'].apply(pd.to_numeric, errors='coerce').astype(float)\n",
    "df_train['approx_price_EUR'].describe()"
   ]
  },
  {
   "cell_type": "markdown",
   "metadata": {},
   "source": [
    "# Drop Outliers - Price outliers are typographical errors"
   ]
  },
  {
   "cell_type": "code",
   "execution_count": 12,
   "metadata": {},
   "outputs": [
    {
     "data": {
      "text/plain": [
       "count    4762.000000\n",
       "mean      151.495170\n",
       "std        93.365233\n",
       "min        10.000000\n",
       "25%        80.000000\n",
       "50%       130.000000\n",
       "75%       200.000000\n",
       "max       430.000000\n",
       "Name: approx_price_EUR, dtype: float64"
      ]
     },
     "execution_count": 12,
     "metadata": {},
     "output_type": "execute_result"
    }
   ],
   "source": [
    "Q1 = df_train.quantile(0.25)\n",
    "Q3 = df_train.quantile(0.75)\n",
    "IQR = Q3 - Q1\n",
    "\n",
    "df_train = df_train[~((df_train < (Q1 - 1.5 * IQR)) |(df_train> (Q3 + 1.5 * IQR))).any(axis=1)]\n",
    "df_train['approx_price_EUR'].describe()"
   ]
  },
  {
   "cell_type": "markdown",
   "metadata": {},
   "source": [
    "# Drop Missing Prices"
   ]
  },
  {
   "cell_type": "code",
   "execution_count": 13,
   "metadata": {},
   "outputs": [
    {
     "name": "stdout",
     "output_type": "stream",
     "text": [
      "<class 'pandas.core.frame.DataFrame'>\n",
      "RangeIndex: 4762 entries, 0 to 4761\n",
      "Data columns (total 40 columns):\n",
      " #   Column              Non-Null Count  Dtype  \n",
      "---  ------              --------------  -----  \n",
      " 0   brand               4762 non-null   object \n",
      " 1   model               4762 non-null   object \n",
      " 2   network_technology  4762 non-null   object \n",
      " 3   2G_bands            4762 non-null   object \n",
      " 4   3G_bands            3291 non-null   object \n",
      " 5   4G_bands            1124 non-null   object \n",
      " 6   network_speed       3308 non-null   object \n",
      " 7   GPRS                4757 non-null   object \n",
      " 8   EDGE                4749 non-null   object \n",
      " 9   announced           4759 non-null   object \n",
      " 10  status              4762 non-null   object \n",
      " 11  dimentions          4759 non-null   object \n",
      " 12  weight_g            4282 non-null   object \n",
      " 13  weight_oz           4282 non-null   object \n",
      " 14  SIM                 4761 non-null   object \n",
      " 15  display_type        4762 non-null   object \n",
      " 16  display_resolution  4689 non-null   object \n",
      " 17  display_size        4753 non-null   object \n",
      " 18  OS                  3339 non-null   object \n",
      " 19  CPU                 3303 non-null   object \n",
      " 20  Chipset             2541 non-null   object \n",
      " 21  GPU                 2446 non-null   object \n",
      " 22  memory_card         4762 non-null   object \n",
      " 23  internal_memory     4261 non-null   object \n",
      " 24  RAM                 3144 non-null   object \n",
      " 25  primary_camera      4499 non-null   object \n",
      " 26  secondary_camera    4485 non-null   object \n",
      " 27  loud_speaker        4762 non-null   object \n",
      " 28  audio_jack          4735 non-null   object \n",
      " 29  WLAN                4759 non-null   object \n",
      " 30  bluetooth           4747 non-null   object \n",
      " 31  GPS                 4748 non-null   object \n",
      " 32  NFC                 604 non-null    object \n",
      " 33  radio               4706 non-null   object \n",
      " 34  USB                 4729 non-null   object \n",
      " 35  sensors             3180 non-null   object \n",
      " 36  battery             4762 non-null   object \n",
      " 37  colors              4707 non-null   object \n",
      " 38  approx_price_EUR    4762 non-null   float64\n",
      " 39  img_url             4761 non-null   object \n",
      "dtypes: float64(1), object(39)\n",
      "memory usage: 1.5+ MB\n"
     ]
    }
   ],
   "source": [
    "df_train['approx_price_EUR'] = df_train['approx_price_EUR'].apply(pd.to_numeric, errors='coerce').astype(float).dropna()\n",
    "df_train.dropna(subset=['approx_price_EUR'],inplace=True)\n",
    "df_train.reset_index(drop=True, inplace=True)\n",
    "df_train.info()"
   ]
  },
  {
   "cell_type": "markdown",
   "metadata": {},
   "source": [
    "# Extract Screen Size and Screen-to-Body Ratio"
   ]
  },
  {
   "cell_type": "code",
   "execution_count": 14,
   "metadata": {},
   "outputs": [],
   "source": [
    "df_train['screen_size'] = df_train['display_resolution'].str.extract(r'(\\d+.\\d+\\si)')\n",
    "df_train['screen_size'] = df_train['screen_size'].str.extract(r'(\\d+.\\d+)')\n",
    "df_train['screen_to_body_ratio'] = df_train['display_resolution'].str.extract(r'(~\\d+.\\d+)')\n",
    "df_train['screen_to_body_ratio'] = df_train['screen_to_body_ratio'].str.extract(r'(\\d+.\\d+)')"
   ]
  },
  {
   "cell_type": "markdown",
   "metadata": {},
   "source": [
    "# Fill Screen Size and Screen-to-Body Ratio with mean values"
   ]
  },
  {
   "cell_type": "code",
   "execution_count": 15,
   "metadata": {},
   "outputs": [],
   "source": [
    "df_train['screen_size'] = df_train['screen_size'].apply(pd.to_numeric, errors='coerce').astype(float)\n",
    "df_train['screen_to_body_ratio'] = df_train['screen_to_body_ratio'].apply(pd.to_numeric, errors='coerce').astype(float)\n",
    "screen_mean = df_train['screen_size'].mean()\n",
    "sbr_mean = df_train['screen_to_body_ratio'].mean()\n",
    "df_train['screen_size'] = df_train['screen_size'].fillna(value=screen_mean)\n",
    "df_train['screen_to_body_ratio'] = df_train['screen_to_body_ratio'].fillna(value=sbr_mean)\n"
   ]
  },
  {
   "cell_type": "markdown",
   "metadata": {},
   "source": [
    "# Convert RAM into MB and change data type into int"
   ]
  },
  {
   "cell_type": "code",
   "execution_count": 16,
   "metadata": {},
   "outputs": [],
   "source": [
    "df_train['2G_bands'] = df_train['2G_bands'].notnull().astype('int')\n",
    "df_train['RAM'] = df_train['RAM'].str.extract('(\\d+)', expand=False)\n",
    "df_train['RAM'] = df_train['RAM'].fillna(value=0)\n",
    "df_train['RAM'] = df_train['RAM'].astype('int')\n",
    "df_train.loc[df_train['RAM'] < 5, 'RAM'] *= 1024"
   ]
  },
  {
   "cell_type": "markdown",
   "metadata": {},
   "source": [
    "# Split Dimensions into Length, Width, and Height"
   ]
  },
  {
   "cell_type": "code",
   "execution_count": 17,
   "metadata": {},
   "outputs": [],
   "source": [
    "#df_train = df_train.rename(columns={'dimentions':'dimensions'}, inplace=True)\n",
    "df_train['dimentions'] = df_train['dimentions'].str.extract(r'(\\d+.\\d+\\sx\\s\\d+.\\d\\sx\\s\\d+.\\d+\\s)')\n",
    "df_train[['Length','Width', 'Height']] = df_train['dimentions'].str.split(\"x\",expand=True)\n"
   ]
  },
  {
   "cell_type": "markdown",
   "metadata": {},
   "source": [
    "# Fill Missing Length, Width, and Height with mean value."
   ]
  },
  {
   "cell_type": "code",
   "execution_count": 18,
   "metadata": {},
   "outputs": [],
   "source": [
    "df_train['Length'] = df_train['Length'].apply(pd.to_numeric, errors='coerce').astype(float)\n",
    "df_train['Width'] = df_train['Width'].apply(pd.to_numeric, errors='coerce').astype(float)\n",
    "df_train['Height'] = df_train['Height'].apply(pd.to_numeric, errors='coerce').astype(float)\n",
    "length_mean = df_train['Length'].mean()\n",
    "width_mean = df_train['Width'].mean()\n",
    "height_mean = df_train['Height'].mean()\n",
    "df_train['Length'] = df_train['Length'].fillna(value=length_mean)\n",
    "df_train['Width'] = df_train['Width'].fillna(value=width_mean)\n",
    "df_train['Height'] = df_train['Height'].fillna(value=height_mean)"
   ]
  },
  {
   "cell_type": "markdown",
   "metadata": {},
   "source": [
    "# Convert Primary and Secondary Camera megapixels into integer"
   ]
  },
  {
   "cell_type": "code",
   "execution_count": 19,
   "metadata": {},
   "outputs": [],
   "source": [
    "df_train['primary_camera'] = df_train['primary_camera'].str.extract('(\\d+)', expand=False)\n",
    "df_train['primary_camera'] = df_train['primary_camera'].fillna(value=0)\n",
    "df_train['primary_camera'] = df_train['primary_camera'].astype('int')\n",
    "\n",
    "df_train['secondary_camera'] = df_train['secondary_camera'].str.extract('(\\d+)', expand=False)\n",
    "df_train['secondary_camera'] = df_train['secondary_camera'].fillna(value=0)\n",
    "df_train['secondary_camera'] = df_train['secondary_camera'].astype('int')\n"
   ]
  },
  {
   "cell_type": "markdown",
   "metadata": {},
   "source": [
    "# Convert Weight and Ounces into integers while filling missing values with mean values"
   ]
  },
  {
   "cell_type": "code",
   "execution_count": 20,
   "metadata": {},
   "outputs": [],
   "source": [
    "df_train['weight_g'] = df_train['weight_g'].apply(pd.to_numeric, errors='coerce').astype(float)\n",
    "df_train['weight_oz'] = df_train['weight_oz'].apply(pd.to_numeric, errors='coerce').astype(float)\n",
    "weight_g_mean = df_train['weight_g'].mean()\n",
    "weight_oz_mean = df_train['weight_oz'].mean()\n",
    "df_train['weight_g'] = df_train['weight_g'].fillna(weight_g_mean)\n",
    "df_train['weight_oz'] = df_train['weight_oz'].fillna(weight_oz_mean)"
   ]
  },
  {
   "cell_type": "markdown",
   "metadata": {},
   "source": [
    "# Convert Audio Jack vaues Yes to 1 and No to 0"
   ]
  },
  {
   "cell_type": "code",
   "execution_count": 21,
   "metadata": {},
   "outputs": [],
   "source": [
    "df_train['audio_jack'].replace('.*Yes.*', 1, regex=True, inplace=True)\n",
    "df_train['audio_jack'].replace('.*\\w+.*', np.nan, regex=True, inplace=True)\n",
    "df_train['audio_jack'] = df_train['audio_jack'].fillna(value=0)\n",
    "df_train['audio_jack'] = df_train['audio_jack'].apply(pd.to_numeric, errors='coerce').astype(int)"
   ]
  },
  {
   "cell_type": "markdown",
   "metadata": {},
   "source": [
    "# Convert GPS values to 1 = with GPS and 0 = no GPS"
   ]
  },
  {
   "cell_type": "code",
   "execution_count": 22,
   "metadata": {},
   "outputs": [],
   "source": [
    "df_train['GPS'].replace('.*A-GPS.*', 'Yes', regex=True, inplace=True)\n",
    "df_train['GPS'] = df_train['GPS'].fillna(value='No')\n",
    "df_train['GPS'].replace('.*Yes.*', 'Yes', regex=True, inplace=True)\n",
    "df_train['GPS'].replace('.*No.*', 'No', regex=True, inplace=True)\n",
    "df_train['GPS'].replace('.*Yes.*', 1, regex=True, inplace=True)\n",
    "df_train['GPS'].replace('.*No.*', 0, regex=True, inplace=True)\n",
    "df_train['GPS'].replace('.*\\w+.*', 0, regex=True, inplace=True)"
   ]
  },
  {
   "cell_type": "markdown",
   "metadata": {},
   "source": [
    "# Convert Loudspeaker Values from 1 = with loudspeaker and 0 = no loudspeaker"
   ]
  },
  {
   "cell_type": "code",
   "execution_count": 23,
   "metadata": {},
   "outputs": [],
   "source": [
    "df_train['loud_speaker'] = df_train['loud_speaker'].str.extract('(\\w+)', expand=False)\n",
    "df_train['loud_speaker'].replace('Yes', 1, regex=True, inplace=True)\n",
    "df_train['loud_speaker'].replace('No', 0, regex=True, inplace=True)\n",
    "df_train['loud_speaker'] = df_train['loud_speaker'].astype('int')\n"
   ]
  },
  {
   "cell_type": "code",
   "execution_count": 24,
   "metadata": {},
   "outputs": [],
   "source": [
    "#Use codes for testing \n",
    "#df_train['network_technology'].replace('.*cellular.*', np.nan, regex=True, inplace=True)\n",
    "#df_train['network_technology'] = df_train['network_technology'].notnull().astype('int')\n",
    "#df_train['3G_bands'] = df_train['3G_bands'].notnull().astype('int')\n",
    "#df_train['network_speed'] = df_train['3G_bands'].notnull().astype('int')\n",
    "#df_train['USB'] = df_train['USB'].notnull().astype('int')\n",
    "#df_train['GPU'] = df_train['GPU'].notnull().astype('int')\n",
    "#df_train['NFC'] = df_train['NFC'].notnull().astype('int')\n"
   ]
  },
  {
   "cell_type": "markdown",
   "metadata": {},
   "source": [
    "# Convert Radio Values  with 1 = has FM and 0 = no FM radio"
   ]
  },
  {
   "cell_type": "code",
   "execution_count": 25,
   "metadata": {},
   "outputs": [],
   "source": [
    "df_train['radio'].replace('.*FM.*', 1, regex=True, inplace=True)\n",
    "df_train['radio'].replace('.*\\w+.*', 0, regex=True, inplace=True)\n",
    "df_train['radio'].replace('.*-.*', 0, regex=True, inplace=True)\n",
    "df_train['radio'] = df_train['radio'].fillna(value=0)\n",
    "df_train['radio'] = df_train['radio'].astype('int')\n"
   ]
  },
  {
   "cell_type": "markdown",
   "metadata": {},
   "source": [
    "# Convert GPRS Values with 1 = with GPRS and 0 = no GPRS"
   ]
  },
  {
   "cell_type": "code",
   "execution_count": 26,
   "metadata": {},
   "outputs": [],
   "source": [
    "df_train['GPRS'].replace('.*No.*', np.nan, regex=True, inplace=True)\n",
    "df_train['GPRS'] = df_train['GPRS'].fillna(value=0)\n",
    "df_train['GPRS'].replace('.*\\w+.*', 1, regex=True, inplace=True)\n",
    "df_train['GPRS'] = df_train['GPRS'].astype('int')\n"
   ]
  },
  {
   "cell_type": "markdown",
   "metadata": {},
   "source": [
    "# Convert EDGE Values with 1 = with EDGE and 0 = no EDGE"
   ]
  },
  {
   "cell_type": "code",
   "execution_count": 27,
   "metadata": {},
   "outputs": [],
   "source": [
    "df_train['EDGE'].replace('.*No.*', np.nan, regex=True, inplace=True)\n",
    "df_train['EDGE'] = df_train['EDGE'].fillna(value=0)\n",
    "df_train['EDGE'].replace('.*\\w+.*', 1, regex=True, inplace=True)\n",
    "df_train['EDGE'] = df_train['EDGE'].astype('int')\n"
   ]
  },
  {
   "cell_type": "markdown",
   "metadata": {},
   "source": [
    "# Convert Bluetooth Values into integers"
   ]
  },
  {
   "cell_type": "code",
   "execution_count": 28,
   "metadata": {},
   "outputs": [],
   "source": [
    "df_train['bluetooth'].replace('.*A2DP.*', 1, regex=True, inplace=True)\n",
    "df_train['bluetooth'].replace('.*Yes.*', 1, regex=True, inplace=True)\n",
    "df_train['bluetooth'].replace('.*No.*', np.nan, regex=True, inplace=True)\n",
    "df_train['bluetooth'].replace('.*\\w+.*', np.nan, regex=True, inplace=True)\n",
    "df_train['bluetooth'] = df_train['bluetooth'].fillna(value=0)\n",
    "df_train['bluetooth'] = df_train['bluetooth'].apply(pd.to_numeric, errors='coerce').astype(int)"
   ]
  },
  {
   "cell_type": "markdown",
   "metadata": {},
   "source": [
    "# Extract Battery mAh Values"
   ]
  },
  {
   "cell_type": "code",
   "execution_count": 29,
   "metadata": {},
   "outputs": [],
   "source": [
    "df_train['battery'] = df_train['battery'].str.extract(r'(\\d+)')"
   ]
  },
  {
   "cell_type": "markdown",
   "metadata": {},
   "source": [
    "# Extract Year Announced"
   ]
  },
  {
   "cell_type": "code",
   "execution_count": 30,
   "metadata": {},
   "outputs": [],
   "source": [
    "df_train['announced'] = df_train['announced'].str.extract(r'(\\d+)')"
   ]
  },
  {
   "cell_type": "markdown",
   "metadata": {},
   "source": [
    "# Extract Display Size Pixel Width, Pixel Height, and PPI"
   ]
  },
  {
   "cell_type": "code",
   "execution_count": 31,
   "metadata": {},
   "outputs": [],
   "source": [
    "df_train['PPI'] = df_train['display_size'].str.extract(r'(~\\d+)')\n",
    "df_train['PPI'] = df_train['PPI'].str.extract(r'(\\d+)')\n",
    "df_train['pixel_width'] = df_train['display_size'].str.extract(r'(\\d+\\sx)')\n",
    "df_train['pixel_width'] = df_train['pixel_width'].str.extract(r'(\\d+)')\n",
    "df_train['pixel_height'] = df_train['display_size'].str.extract(r'(x\\s\\d+)')\n",
    "df_train['pixel_height'] = df_train['pixel_height'].str.extract(r'(\\d+)')"
   ]
  },
  {
   "cell_type": "markdown",
   "metadata": {},
   "source": [
    "# Fill Missing Values for Pixel Width, Pixel Height, and PPI with mean values"
   ]
  },
  {
   "cell_type": "code",
   "execution_count": 32,
   "metadata": {},
   "outputs": [],
   "source": [
    "df_train['PPI'] = df_train['PPI'].apply(pd.to_numeric, errors='coerce').astype(float)\n",
    "df_train['pixel_width'] = df_train['pixel_width'].apply(pd.to_numeric, errors='coerce').astype(float)\n",
    "df_train['pixel_height'] = df_train['pixel_height'].apply(pd.to_numeric, errors='coerce').astype(float)\n",
    "ppi_mean = df_train['PPI'].mean()\n",
    "pw_mean = df_train['pixel_width'].mean()\n",
    "ph_mean = df_train['pixel_height'].mean()\n",
    "df_train['PPI'] = df_train['PPI'].fillna(value=ppi_mean)\n",
    "df_train['pixel_width'] = df_train['pixel_width'].fillna(value=pw_mean)\n",
    "df_train['pixel_height'] = df_train['pixel_height'].fillna(value=ph_mean)"
   ]
  },
  {
   "cell_type": "markdown",
   "metadata": {},
   "source": [
    "# Drop columns that are not useable"
   ]
  },
  {
   "cell_type": "code",
   "execution_count": 33,
   "metadata": {},
   "outputs": [],
   "source": [
    "df_train.drop(columns =['img_url', 'dimentions', 'display_size', 'display_resolution'], inplace=True) "
   ]
  }
 ],
 "metadata": {
  "kernelspec": {
   "display_name": "Python 3",
   "language": "python",
   "name": "python3"
  },
  "language_info": {
   "codemirror_mode": {
    "name": "ipython",
    "version": 3
   },
   "file_extension": ".py",
   "mimetype": "text/x-python",
   "name": "python",
   "nbconvert_exporter": "python",
   "pygments_lexer": "ipython3",
   "version": "3.7.6"
  },
  "varInspector": {
   "cols": {
    "lenName": 16,
    "lenType": 16,
    "lenVar": 40
   },
   "kernels_config": {
    "python": {
     "delete_cmd_postfix": "",
     "delete_cmd_prefix": "del ",
     "library": "var_list.py",
     "varRefreshCmd": "print(var_dic_list())"
    },
    "r": {
     "delete_cmd_postfix": ") ",
     "delete_cmd_prefix": "rm(",
     "library": "var_list.r",
     "varRefreshCmd": "cat(var_dic_list()) "
    }
   },
   "types_to_exclude": [
    "module",
    "function",
    "builtin_function_or_method",
    "instance",
    "_Feature"
   ],
   "window_display": false
  }
 },
 "nbformat": 4,
 "nbformat_minor": 4
}
